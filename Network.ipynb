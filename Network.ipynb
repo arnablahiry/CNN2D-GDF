{
 "cells": [
  {
   "cell_type": "markdown",
   "id": "b5347def-ef79-46b4-84e5-ea5db90683a0",
   "metadata": {},
   "source": [
    "## Defining the convolutional neural network architecture"
   ]
  },
  {
   "cell_type": "code",
   "execution_count": 1,
   "id": "3b7a1a2e-3e8e-44f0-a3ab-8258fa733bd7",
   "metadata": {},
   "outputs": [],
   "source": [
    "import numpy as np\n",
    "import torch\n",
    "import torch.nn as nn\n",
    "import torch.nn.functional as F\n",
    "import torch.optim as optim\n",
    "\n",
    "class Model_CNN_GDF(nn.Module):\n",
    "    def __init__(self, params):\n",
    "\n",
    "        super(Model_CNN_GDF, self).__init__()\n",
    "\n",
    "        self.C01 = nn.Conv2d(1,params['channel_1'],kernel_size = 4, stride = 2, padding = 1)\n",
    "        self.C02 = nn.Conv2d(params['channel_1'],params['channel_2'],kernel_size = 4, stride = 2, padding = 1)\n",
    "        self.C03 = nn.Conv2d(params['channel_2'],params['channel_3'],kernel_size = 4, stride = 2, padding = 1)\n",
    "        self.C04 = nn.Conv2d(params['channel_3'],params['channel_4'],kernel_size = 4, stride = 2, padding = 1)\n",
    "        self.C05 = nn.Conv2d(params['channel_4'],params['channel_5'],kernel_size = 4, stride = 2, padding = 1)\n",
    "\n",
    "        self.B02 = nn.BatchNorm2d(params['channel_2'])\n",
    "        self.B03 = nn.BatchNorm2d(params['channel_3'])\n",
    "        self.B04 = nn.BatchNorm2d(params['channel_4'])\n",
    "        self.B05 = nn.BatchNorm2d(params['channel_5'])\n",
    "\n",
    "        self.LeakyReLU = nn.LeakyReLU(0.2)\n",
    "\n",
    "        self.Flatten = nn.Flatten()\n",
    "\n",
    "        a = params['channel_5']*2*2\n",
    "\n",
    "        self.FC1 = nn.Linear(a,1)\n",
    "\n",
    "\n",
    "    def forward(self, image):\n",
    "\n",
    "        out = self.LeakyReLU(self.C01(image))\n",
    "        out = self.LeakyReLU(self.B02(self.C02(out)))\n",
    "        out = self.LeakyReLU(self.B03(self.C03(out)))\n",
    "        out = self.LeakyReLU(self.B04(self.C04(out)))\n",
    "        out = self.LeakyReLU(self.B05(self.C05(out)))\n",
    "        out = self.Flatten(out)\n",
    "        out = self.FC1(out)\n",
    "\n",
    "        return out"
   ]
  }
 ],
 "metadata": {
  "kernelspec": {
   "display_name": "py_ml_2.0",
   "language": "python",
   "name": "py_ml_2.0"
  },
  "language_info": {
   "codemirror_mode": {
    "name": "ipython",
    "version": 3
   },
   "file_extension": ".py",
   "mimetype": "text/x-python",
   "name": "python",
   "nbconvert_exporter": "python",
   "pygments_lexer": "ipython3",
   "version": "3.9.12"
  }
 },
 "nbformat": 4,
 "nbformat_minor": 5
}
